{
 "cells": [
  {
   "cell_type": "code",
   "execution_count": 14,
   "id": "93df8321",
   "metadata": {},
   "outputs": [
    {
     "name": "stdout",
     "output_type": "stream",
     "text": [
      "DOT-PRODUCT\n",
      "[[21 24 27]\n",
      " [47 54 61]]\n",
      "TRANSPOSE\n",
      "[[1 3]\n",
      " [2 4]]\n",
      "[[ 5  8]\n",
      " [ 6  9]\n",
      " [ 7 10]]\n",
      "TRACE-a\n",
      "5\n",
      "TRACE-b\n",
      "14\n",
      "RANK-a\n",
      "2\n",
      "RANK-b\n",
      "2\n",
      "Determinant-a\n",
      "-2.0\n",
      "INVERSE-a\n",
      "[[-2.   1. ]\n",
      " [ 1.5 -0.5]]\n"
     ]
    },
    {
     "ename": "LinAlgError",
     "evalue": "Last 2 dimensions of the array must be square",
     "output_type": "error",
     "traceback": [
      "\u001b[0;31m---------------------------------------------------------------------------\u001b[0m",
      "\u001b[0;31mLinAlgError\u001b[0m                               Traceback (most recent call last)",
      "Input \u001b[0;32mIn [14]\u001b[0m, in \u001b[0;36m<cell line: 26>\u001b[0;34m()\u001b[0m\n\u001b[1;32m     24\u001b[0m inv \u001b[38;5;241m=\u001b[39m np\u001b[38;5;241m.\u001b[39mlinalg\u001b[38;5;241m.\u001b[39minv(a)\n\u001b[1;32m     25\u001b[0m \u001b[38;5;28mprint\u001b[39m(inv) \n\u001b[0;32m---> 26\u001b[0m w, v \u001b[38;5;241m=\u001b[39m \u001b[43mnp\u001b[49m\u001b[38;5;241;43m.\u001b[39;49m\u001b[43mlinalg\u001b[49m\u001b[38;5;241;43m.\u001b[39;49m\u001b[43meig\u001b[49m\u001b[43m(\u001b[49m\u001b[43mb\u001b[49m\u001b[43m)\u001b[49m\n\u001b[1;32m     27\u001b[0m \u001b[38;5;28mprint\u001b[39m(\u001b[38;5;124m\"\u001b[39m\u001b[38;5;130;01m\\n\u001b[39;00m\u001b[38;5;124mEigenvalues:\u001b[39m\u001b[38;5;124m\"\u001b[39m)\n\u001b[1;32m     28\u001b[0m \u001b[38;5;28mprint\u001b[39m(w)\n",
      "File \u001b[0;32m<__array_function__ internals>:5\u001b[0m, in \u001b[0;36meig\u001b[0;34m(*args, **kwargs)\u001b[0m\n",
      "File \u001b[0;32m~/miniconda3/lib/python3.9/site-packages/numpy/linalg/linalg.py:1316\u001b[0m, in \u001b[0;36meig\u001b[0;34m(a)\u001b[0m\n\u001b[1;32m   1314\u001b[0m a, wrap \u001b[38;5;241m=\u001b[39m _makearray(a)\n\u001b[1;32m   1315\u001b[0m _assert_stacked_2d(a)\n\u001b[0;32m-> 1316\u001b[0m \u001b[43m_assert_stacked_square\u001b[49m\u001b[43m(\u001b[49m\u001b[43ma\u001b[49m\u001b[43m)\u001b[49m\n\u001b[1;32m   1317\u001b[0m _assert_finite(a)\n\u001b[1;32m   1318\u001b[0m t, result_t \u001b[38;5;241m=\u001b[39m _commonType(a)\n",
      "File \u001b[0;32m~/miniconda3/lib/python3.9/site-packages/numpy/linalg/linalg.py:203\u001b[0m, in \u001b[0;36m_assert_stacked_square\u001b[0;34m(*arrays)\u001b[0m\n\u001b[1;32m    201\u001b[0m m, n \u001b[38;5;241m=\u001b[39m a\u001b[38;5;241m.\u001b[39mshape[\u001b[38;5;241m-\u001b[39m\u001b[38;5;241m2\u001b[39m:]\n\u001b[1;32m    202\u001b[0m \u001b[38;5;28;01mif\u001b[39;00m m \u001b[38;5;241m!=\u001b[39m n:\n\u001b[0;32m--> 203\u001b[0m     \u001b[38;5;28;01mraise\u001b[39;00m LinAlgError(\u001b[38;5;124m'\u001b[39m\u001b[38;5;124mLast 2 dimensions of the array must be square\u001b[39m\u001b[38;5;124m'\u001b[39m)\n",
      "\u001b[0;31mLinAlgError\u001b[0m: Last 2 dimensions of the array must be square"
     ]
    }
   ],
   "source": [
    "import numpy as np\n",
    "a=np.array([[1, 2], [3, 4]])\n",
    "b = np.array([[5, 6, 7], [8, 9, 10]])\n",
    "print(\"DOT-PRODUCT\")\n",
    "print(np.dot(a,b))\n",
    "print(\"TRANSPOSE\")\n",
    "print(np.transpose(a))\n",
    "print(np.transpose(b))\n",
    "print(\"TRACE-a\")\n",
    "print(a.trace())\n",
    "#print(sum(a.diagonal()))\n",
    "print(\"TRACE-b\")\n",
    "print(b.trace())\n",
    "print(\"RANK-a\")\n",
    "r1=np.linalg.matrix_rank(a)\n",
    "print(r1)\n",
    "print(\"RANK-b\")\n",
    "r2=np.linalg.matrix_rank(b)\n",
    "print(r2)\n",
    "print(\"Determinant-a\")\n",
    "d1=np.linalg.det(a)\n",
    "print(np.round(d1))\n",
    "print(\"INVERSE-a\")\n",
    "inv = np.linalg.inv(a)\n",
    "print(inv) \n",
    "w, v = np.linalg.eig(b)\n",
    "print(\"\\nEigenvalues:\")\n",
    "print(w)\n",
    "print(\"\\nEigenvectors:\")\n",
    "print(v)\n"
   ]
  },
  {
   "cell_type": "code",
   "execution_count": null,
   "id": "160ef5ab",
   "metadata": {},
   "outputs": [],
   "source": []
  }
 ],
 "metadata": {
  "kernelspec": {
   "display_name": "Python 3 (ipykernel)",
   "language": "python",
   "name": "python3"
  },
  "language_info": {
   "codemirror_mode": {
    "name": "ipython",
    "version": 3
   },
   "file_extension": ".py",
   "mimetype": "text/x-python",
   "name": "python",
   "nbconvert_exporter": "python",
   "pygments_lexer": "ipython3",
   "version": "3.9.12"
  }
 },
 "nbformat": 4,
 "nbformat_minor": 5
}
