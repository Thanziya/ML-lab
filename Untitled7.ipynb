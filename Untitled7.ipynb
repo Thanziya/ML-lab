{
 "cells": [
  {
   "cell_type": "code",
   "execution_count": 1,
   "id": "40770bd6",
   "metadata": {},
   "outputs": [
    {
     "name": "stdout",
     "output_type": "stream",
     "text": [
      "0    1\n",
      "1    8\n",
      "2    2\n",
      "3    7\n",
      "4    3\n",
      "5    5\n",
      "dtype: int64\n"
     ]
    }
   ],
   "source": [
    "import pandas as pd\n",
    "a = [1,8,2,7,3,5]\n",
    "myvar = pd.Series(a)\n",
    "print(myvar)"
   ]
  },
  {
   "cell_type": "code",
   "execution_count": 2,
   "id": "1791b848",
   "metadata": {},
   "outputs": [
    {
     "name": "stdout",
     "output_type": "stream",
     "text": [
      "2021-05-01\n",
      "2021-05-02\n",
      "2021-05-03\n",
      "2021-05-04\n",
      "2021-05-05\n",
      "2021-05-06\n",
      "2021-05-07\n",
      "2021-05-08\n",
      "2021-05-09\n",
      "2021-05-10\n",
      "2021-05-11\n",
      "2021-05-12\n"
     ]
    }
   ],
   "source": [
    "import pandas as pd\n",
    "a = pd.Series(pd.date_range('2021-05-01','2021-05-12'))\n",
    "print(a.to_string(index=False))"
   ]
  },
  {
   "cell_type": "code",
   "execution_count": 3,
   "id": "ef60ed2d",
   "metadata": {},
   "outputs": [
    {
     "name": "stdout",
     "output_type": "stream",
     "text": [
      "   calories  duration\n",
      "0       234        23\n",
      "1       456        56\n",
      "2       678        43\n"
     ]
    }
   ],
   "source": [
    "import pandas as pd\n",
    "a={\"calories\":[234,456,678],\n",
    "  \"duration\":[23,56,43]}\n",
    "myvar=pd.DataFrame(a)\n",
    "print(myvar)"
   ]
  },
  {
   "cell_type": "code",
   "execution_count": 4,
   "id": "e34ffe95",
   "metadata": {},
   "outputs": [
    {
     "name": "stdout",
     "output_type": "stream",
     "text": [
      "   0  1\n",
      "0  1  3\n",
      "1  5  6\n"
     ]
    }
   ],
   "source": [
    "import pandas as pd\n",
    "a=[[1,3],[5,6]]\n",
    "myvar=pd.DataFrame(a)\n",
    "print(myvar)\n"
   ]
  },
  {
   "cell_type": "code",
   "execution_count": 12,
   "id": "611cb32f",
   "metadata": {},
   "outputs": [
    {
     "name": "stdout",
     "output_type": "stream",
     "text": [
      "   abs 12\n",
      "0  vvv 23\n",
      "1  cvf 67\n",
      "2  kkk 69\n",
      "3  iii 90\n",
      "4  ddd 48\n"
     ]
    }
   ],
   "source": [
    "import pandas as pd\n",
    "a=pd.read_csv('data.csv')\n",
    "print(a.to_string())"
   ]
  },
  {
   "cell_type": "code",
   "execution_count": 6,
   "id": "c1de25f4",
   "metadata": {},
   "outputs": [
    {
     "name": "stdout",
     "output_type": "stream",
     "text": [
      "  Name  Age  Mark\n",
      "0    B   34    45\n",
      "1    C   22    43\n",
      "2    A   22    52\n",
      "Sorted Data:\n",
      "  Name  Age  Mark\n",
      "2    A   22    52\n",
      "0    B   34    45\n",
      "1    C   22    43\n"
     ]
    }
   ],
   "source": [
    "import pandas as pd\n",
    "a=pd.DataFrame({'Name':['B','C','A'],'Age':[34,22,22],'Mark':[45,43,52]})\n",
    "print(a.to_string())\n",
    "\n",
    "print(\"Sorted Data:\")\n",
    "\n",
    "b=a.sort_values(by=['Name','Age'],ascending=[True,True])\n",
    "print(b.to_string())\n"
   ]
  },
  {
   "cell_type": "code",
   "execution_count": 7,
   "id": "6443818a",
   "metadata": {},
   "outputs": [
    {
     "name": "stdout",
     "output_type": "stream",
     "text": [
      "   Name  Age  Mark\n",
      "a1    B   34    45\n",
      "b1    C   22    43\n",
      "c1    A   22    52\n",
      "converting to default indexing\n",
      "  Name  Age  Mark\n",
      "0    B   34    45\n",
      "1    C   22    43\n",
      "2    A   22    52\n"
     ]
    }
   ],
   "source": [
    "import pandas as pd\n",
    "a={'Name':['B','C','A'],'Age':[34,22,22],'Mark':[45,43,52]}\n",
    "index={'b1','c1','a1'}\n",
    "myvar=pd.DataFrame(a,index)\n",
    "print(myvar.to_string())\n",
    "print(\"converting to default indexing\")\n",
    "myvar.reset_index(inplace=True, drop=True)\n",
    "print(myvar.to_string())"
   ]
  },
  {
   "cell_type": "code",
   "execution_count": 8,
   "id": "8ab943a4",
   "metadata": {},
   "outputs": [
    {
     "name": "stdout",
     "output_type": "stream",
     "text": [
      "  Name  Age  Mark\n",
      "0    B   34    45\n",
      "1    C   22    43\n"
     ]
    }
   ],
   "source": [
    "import pandas as pd\n",
    "a={'Name':['B','C','A'],'Age':[34,22,22],'Mark':[45,43,52]}\n",
    "myvar=pd.DataFrame(a)\n",
    "print(myvar[:2])"
   ]
  },
  {
   "cell_type": "code",
   "execution_count": 9,
   "id": "93091341",
   "metadata": {},
   "outputs": [
    {
     "name": "stdout",
     "output_type": "stream",
     "text": [
      "  Name  Occupation  Salary\n",
      "0    A     Manager   45000\n",
      "1    B  Accountant   23000\n",
      "2    C     Teacher   52000\n",
      "3    D     Manager   47000\n",
      "Average Salary:\n",
      "Occupation\n",
      "Accountant    23000.0\n",
      "Manager       46000.0\n",
      "Teacher       52000.0\n",
      "Name: Salary, dtype: float64\n"
     ]
    }
   ],
   "source": [
    "import pandas as pd\n",
    "a={'Name':['A','B','C','D'],'Occupation':['Manager','Accountant','Teacher','Manager'],'Salary':[45000,23000,52000,47000]}\n",
    "myvar=pd.DataFrame(a)\n",
    "print(myvar)\n",
    "myvar=myvar.groupby('Occupation')['Salary'].mean()\n",
    "print(\"Average Salary:\")\n",
    "print(myvar)\n"
   ]
  },
  {
   "cell_type": "code",
   "execution_count": 10,
   "id": "195e769d",
   "metadata": {},
   "outputs": [
    {
     "name": "stdout",
     "output_type": "stream",
     "text": [
      "  Name  Occupation  Salary\n",
      "0    A     Manager   45000\n",
      "1    B  Accountant   23000\n",
      "2    C     Teacher   52000\n",
      "3    D     Manager   47000\n",
      "Average Salary:\n",
      "Occupation\n",
      "Accountant    23000.0\n",
      "Manager       46000.0\n",
      "Teacher       52000.0\n",
      "Name: Salary, dtype: float64\n"
     ]
    }
   ],
   "source": [
    "import pandas as pd\n",
    "a={'Name':['A','B','C','D'],'Occupation':['Manager','Accountant','Teacher','Manager'],'Salary':[45000,23000,52000,47000]}\n",
    "myvar=pd.DataFrame(a)\n",
    "print(myvar)\n",
    "myvar=myvar.groupby('Occupation')['Salary'].mean()\n",
    "print(\"Average Salary:\")\n",
    "print(myvar)\n"
   ]
  },
  {
   "cell_type": "code",
   "execution_count": 11,
   "id": "d166c21f",
   "metadata": {},
   "outputs": [
    {
     "name": "stdout",
     "output_type": "stream",
     "text": [
      "  ename profit\n",
      "0     a   True\n",
      "1     b   True\n",
      "2     c  False\n",
      "3     d  False\n"
     ]
    }
   ],
   "source": [
    "import pandas as pd\n",
    "a = {\n",
    "    'ename' : ['a','b','c','d'],\n",
    "    'profit' : [24,25,0,-27],\n",
    "}\n",
    "\n",
    "a = pd.DataFrame(a)\n",
    "\n",
    "a.loc[a.profit <= 0,'profit'] = False\n",
    "a.loc[a.profit > 0,'profit'] = True\n",
    "print(a)"
   ]
  },
  {
   "cell_type": "code",
   "execution_count": null,
   "id": "5dec8adf",
   "metadata": {},
   "outputs": [],
   "source": []
  }
 ],
 "metadata": {
  "kernelspec": {
   "display_name": "Python 3 (ipykernel)",
   "language": "python",
   "name": "python3"
  },
  "language_info": {
   "codemirror_mode": {
    "name": "ipython",
    "version": 3
   },
   "file_extension": ".py",
   "mimetype": "text/x-python",
   "name": "python",
   "nbconvert_exporter": "python",
   "pygments_lexer": "ipython3",
   "version": "3.9.12"
  }
 },
 "nbformat": 4,
 "nbformat_minor": 5
}
